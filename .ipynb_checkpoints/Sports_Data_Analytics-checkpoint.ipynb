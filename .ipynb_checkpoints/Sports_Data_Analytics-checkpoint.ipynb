{
 "cells": [
  {
   "cell_type": "markdown",
   "id": "51794e7d",
   "metadata": {},
   "source": [
    "# Introduction\n",
    "In the world of football, strikers play a pivotal role in deciding the fate of matches and championships. Identifying the best strikers among a pool of talent involves a comprehensive analysis of various factors ranging from performance metrics to personal attributes. In this project, titled \"Segmenting and Classifying the Best Strikers,\" we delve into a dataset containing information on 500 strikers, aiming to uncover patterns, insights, and classifications that distinguish top-performing strikers from the rest."
   ]
  },
  {
   "cell_type": "markdown",
   "id": "3b1e426b",
   "metadata": {},
   "source": [
    "# Project Description\n",
    "The project involves utilizing data analytics techniques to explore and understand the characteristics and performance metrics of strikers. By employing descriptive statistics, data visualization, feature engineering, and machine learning algorithms, we aim to identify the key attributes that contribute to a striker's success on the field and classify them into different categories based on their performance.\n",
    "\n",
    "## Purpose\n",
    "The primary purpose of this project is to provide a systematic framework for analyzing and categorizing strikers based on their performance metrics and personal attributes. By doing so, coaches, scouts, and football analysts can gain valuable insights into the characteristics of top-performing strikers and make informed decisions in team selection, recruitment, and strategic planning.\n"
   ]
  },
  {
   "cell_type": "markdown",
   "id": "ca8e6569",
   "metadata": {},
   "source": [
    "# Dataset Description\n",
    "The dataset comprises various variables related to 500 strikers, encompassing both demographic information and performance metrics. Key variables include nationality, footedness, marital status, goals scored, assists, shot accuracy, dribbling success, and many more, providing a comprehensive overview of each striker's profile and on-field performance.\n",
    "\n",
    "-> Striker ID: Unique identifiers assigned to each striker.\n",
    "\n",
    "-> Nationality: The country of origin for each striker.\n",
    "\n",
    "-> Footedness: Indicates whether the striker is right or left-footed.\n",
    "\n",
    "-> Marital Status: Indicates whether the striker is married (yes) or unmarried (no).\n",
    "\n",
    "-> Goals Scored: The total number of goals scored by the striker, a fundamental performance metric.\n",
    "\n",
    "-> Assists: The number of assists provided by the striker, indicating their ability to create goal-scoring opportunities for teammates.\n",
    "\n",
    "-> Shots on Target: The number of shots taken by the striker that hit the target, reflecting their ability to create scoring opportunities and test the goalkeeper.\n",
    "\n",
    "-> Shot Accuracy: The percentage of shots on target out of total shots taken, showing the striker's precision and effectiveness.\n",
    "\n",
    "-> Conversion Rate: The percentage of shots that result in goals, revealing the striker's efficiency in front of goal.\n",
    "\n",
    "-> Dribbling Success: A metric indicating the striker's ability to bypass defenders and create goal-scoring opportunities through individual skill.\n",
    "\n",
    "-> Movement off the Ball: Reflects how actively the striker moves to find space and create opportunities for themselves and teammates.\n",
    "\n",
    "-> Hold-up Play: Measures the striker's ability to retain possession and bring teammates into play with passes or layoffs.\n",
    "\n",
    "-> Aerial Duels Won: The number of aerial duels won by the striker, important for strikers strong in the air as it can create scoring chances.\n",
    "\n",
    "-> Defensive Contribution: Reflects the striker's defensive efforts such as tracking back, pressing opponents, and making interceptions.\n",
    "\n",
    "-> Big Game Performance: Indicates the striker's performance in important matches, which can elevate their reputation.\n",
    "\n",
    "-> Consistency: Reflects how regularly the striker performs at a high level over the course of a season or multiple seasons.\n",
    "\n",
    "-> Versatility: Measures the striker's ability to adapt to different tactical systems and roles within the team.\n",
    "\n",
    "-> Penalty Success Rate: The efficiency of the striker from the penalty spot, crucial in tight matches.\n",
    "\n",
    "-> Impact on Team Performance: Reflects how the team's results and overall attacking play are influenced by the striker's presence.\n",
    "\n",
    "-> Off-field Conduct: Measures the striker's professionalism, leadership, and behavior, which can impact their overall performance and value to the team."
   ]
  },
  {
   "cell_type": "markdown",
   "id": "62263c13",
   "metadata": {},
   "source": [
    "# Required Tools\n",
    "Python programming language\n",
    "Jupyter Notebook\n",
    "\n",
    "# Your Job - Questions to solve\n",
    "Data Cleaning:\n",
    "\n",
    "Download the attached dataset and load it into Jupyter notebook.\n",
    "Load all the relevant and necessary packages for the required tasks.\n",
    "Check for missing values within any column and use SimpleImputer to impute the missing values. Use strategy 'median' for numeric and 'most frequent' for nominal columns.\n",
    "\n",
    "Check for the correct data types and assign integer data types for specific variables: 'Goals Scored', 'Assists', 'Shots on Target', 'Movement off the Ball', 'Hold-up Play', 'Aerial Duels Won', 'Defensive Contribution', 'Big Game Performance', 'Impact on Team Performance', 'Off-field Conduct'."
   ]
  },
  {
   "cell_type": "markdown",
   "id": "b7777f10",
   "metadata": {},
   "source": [
    "# Descriptive Analysis:\n",
    "\n",
    "-> Perform descriptive analysis on the dataset. Round the output values by 2 decimal points.\n",
    "\n",
    "## Data Visualization:\n",
    "\n",
    "-> Perform percentage analysis on the variable Footedness and create a pie chart on the output using matplotlib.\n",
    "\n",
    "-> Visualize the distribution of players' footedness across different nationalities in a countplot of seaborn.\n",
    "\n",
    "## Statistical Analysis:\n",
    "\n",
    "-> Determine which nationality strikers have the highest average number of goals scored.\n",
    "\n",
    "-> Calculate the average conversion rate for players based on their footedness.\n",
    "\n",
    "-> Find whether there is any significant difference in consistency rates among strikers from various nationalities. Before doing the appropriate test, must check for the assumptions.\n",
    "\n",
    "-> Check if there is any significant correlation between strikers' Hold-up play and consistency rate. Must check for the assumptions.\n",
    "\n",
    "-> Check if strikers' hold-up play significantly influences their consistency rate."
   ]
  },
  {
   "cell_type": "markdown",
   "id": "f7327e89",
   "metadata": {},
   "source": [
    "# Feature Engineering:\n",
    "\n",
    "Create a new feature - Total contribution score by summing up specific columns: 'Goals Scored', 'Assists', 'Shots on Target', 'Dribbling Success', 'Aerial Duels Won', 'Defensive Contribution', 'Big Game Performance', 'Consistency'.\n",
    "\n",
    "Encode the Footedness and marital status by LabelEncoder.\n",
    "\n",
    "Create dummy variables for Nationality and add them to the data.\n",
    "\n",
    "## Clustering Analysis:\n",
    "\n",
    "Perform KMeans clustering:\n",
    "\n",
    "Select features by dropping the Striker_ID from the updated data.\n",
    "\n",
    "Calculate the Within-Cluster-Sum-of-Squares (WCSS).\n",
    "\n",
    "Visualize the elbow chart to select the optimal number of clusters (The breakpoint of elbow chart must show 2).\n",
    "\n",
    "Build the KMeans cluster with the optimal number of clusters and add the labels into the data.\n",
    "\n",
    "Calculate the average total contribution score by the value of clusters.\n",
    "\n",
    "Assign the tag 'Best strikers' for 0 and 'Regular strikers' for 1 and add a new column 'Strikers types' into the data. Drop the Clusters variable.\n",
    "\n",
    "Use feature mapping to map the new feature Strikers types: 'Best strikers' for 1 and 'Regular strikers' for 0."
   ]
  },
  {
   "cell_type": "markdown",
   "id": "1f7d8ec3",
   "metadata": {},
   "source": [
    "# Machine Learning Model:\n",
    "\n",
    "Select the features into x and the target column Strikers types into y. Must delete unnecessary columns (i.e., 'Strikers_ID') while selecting the features.\n",
    "\n",
    "Perform feature scaling with StandardScaler and split the data into train and test sets where the test data size will be 20%.\n",
    "\n",
    "Build a logistic regression machine learning model to predict strikers type.\n",
    "\n",
    "Make predictions and evaluate by calculating the accuracy percentage.\n",
    "\n",
    "Create the confusion matrix and visualize it.\n",
    "\n",
    "Finally, answer the question asked in this assignment and you are done!\n"
   ]
  },
  {
   "cell_type": "markdown",
   "id": "f90fe7e1",
   "metadata": {},
   "source": [
    "# Conclusion\n",
    "Through a comprehensive analysis of the dataset, we've gained valuable insights into the characteristics and performance metrics of strikers. By segmenting and classifying the strikers based on their attributes and performance, we've provided a framework for identifying top-performing strikers and predicting their performance type. This project serves as a valuable resource for football professionals and enthusiasts alike, aiding in talent identification, team selection, and strategic planning.\n",
    "\n",
    "Questions for this assignment\n",
    "What is the maximum goal scored by an individual striker?\n",
    "\n",
    "What is the portion of Right-footed strikers within the dataset?\n",
    "\n",
    "Which nationality strikers have the highest average number of goals scored?\n",
    "\n",
    "What is the average conversion rate for left-footed player?\n",
    "\n",
    "How many left footed players are from France?\n",
    "\n",
    "What is the correlation co-efficient between hold up play and consistency score?\n",
    "\n",
    "What is the p-value for the shapiro wilk test of consistency score? Is it normally distributed?\n",
    "\n",
    "What is the p-value for the levene's test of ANOVA analysis? Is the heteroscedasticity assumed?\n",
    "\n",
    "Is there any significant correlation between strikers' Hold-up play and consistency rate?\n",
    "\n",
    "Describe the beta value of Hold-up Play you have found in your regression analysis.\n",
    "\n",
    "What is the average Total contribution score you get for the best strikers?\n",
    "\n",
    "What is the accuracy score of your LGR model? How many regular strikers your model predicted correctly? How many best strikers your model predicted incorrectly?"
   ]
  },
  {
   "cell_type": "markdown",
   "id": "59ccacad",
   "metadata": {},
   "source": [
    "#### --------------------------------------------------------------------------------------------------------------------------------------------------------------------------------------------------------"
   ]
  },
  {
   "cell_type": "markdown",
   "id": "2ab82f84",
   "metadata": {},
   "source": [
    "### Import libraries"
   ]
  },
  {
   "cell_type": "code",
   "execution_count": 60,
   "id": "aa9b4b9f",
   "metadata": {},
   "outputs": [],
   "source": [
    "import pandas as pd\n",
    "import matplotlib.pyplot as plt\n",
    "import numpy as np\n",
    "import seaborn as sns\n",
    "from sklearn.impute import SimpleImputer\n",
    "from sklearn.preprocessing import LabelEncoder, StandardScaler\n",
    "from sklearn.cluster import KMeans\n",
    "from sklearn.model_selection import train_test_split\n",
    "from sklearn.linear_model import LogisticRegression\n",
    "from sklearn.metrics import accuracy_score, confusion_matrix\n",
    "from scipy.stats import shapiro, levene, pearsonr,f_oneway"
   ]
  },
  {
   "cell_type": "markdown",
   "id": "932baf23",
   "metadata": {},
   "source": [
    "### Load Dataset"
   ]
  },
  {
   "cell_type": "code",
   "execution_count": 42,
   "id": "ab94a882",
   "metadata": {},
   "outputs": [
    {
     "data": {
      "text/html": [
       "<div>\n",
       "<style scoped>\n",
       "    .dataframe tbody tr th:only-of-type {\n",
       "        vertical-align: middle;\n",
       "    }\n",
       "\n",
       "    .dataframe tbody tr th {\n",
       "        vertical-align: top;\n",
       "    }\n",
       "\n",
       "    .dataframe thead th {\n",
       "        text-align: right;\n",
       "    }\n",
       "</style>\n",
       "<table border=\"1\" class=\"dataframe\">\n",
       "  <thead>\n",
       "    <tr style=\"text-align: right;\">\n",
       "      <th></th>\n",
       "      <th>Striker_ID</th>\n",
       "      <th>Nationality</th>\n",
       "      <th>Footedness</th>\n",
       "      <th>Marital Status</th>\n",
       "      <th>Goals Scored</th>\n",
       "      <th>Assists</th>\n",
       "      <th>Shots on Target</th>\n",
       "      <th>Shot Accuracy</th>\n",
       "      <th>Conversion Rate</th>\n",
       "      <th>Dribbling Success</th>\n",
       "      <th>Movement off the Ball</th>\n",
       "      <th>Hold-up Play</th>\n",
       "      <th>Aerial Duels Won</th>\n",
       "      <th>Defensive Contribution</th>\n",
       "      <th>Big Game Performance</th>\n",
       "      <th>Consistency</th>\n",
       "      <th>Penalty Success Rate</th>\n",
       "      <th>Impact on Team Performance</th>\n",
       "      <th>Off-field Conduct</th>\n",
       "    </tr>\n",
       "  </thead>\n",
       "  <tbody>\n",
       "    <tr>\n",
       "      <th>0</th>\n",
       "      <td>1</td>\n",
       "      <td>Spain</td>\n",
       "      <td>Left-footed</td>\n",
       "      <td>No</td>\n",
       "      <td>17.483571</td>\n",
       "      <td>10.778533</td>\n",
       "      <td>34.795488</td>\n",
       "      <td>0.677836</td>\n",
       "      <td>0.166241</td>\n",
       "      <td>0.757061</td>\n",
       "      <td>50.921924</td>\n",
       "      <td>71.806409</td>\n",
       "      <td>15.682532</td>\n",
       "      <td>30.412215</td>\n",
       "      <td>6.152481</td>\n",
       "      <td>0.820314</td>\n",
       "      <td>0.922727</td>\n",
       "      <td>8.570370</td>\n",
       "      <td>11.451388</td>\n",
       "    </tr>\n",
       "    <tr>\n",
       "      <th>1</th>\n",
       "      <td>2</td>\n",
       "      <td>France</td>\n",
       "      <td>Left-footed</td>\n",
       "      <td>Yes</td>\n",
       "      <td>14.308678</td>\n",
       "      <td>13.728250</td>\n",
       "      <td>31.472436</td>\n",
       "      <td>0.544881</td>\n",
       "      <td>0.192774</td>\n",
       "      <td>0.796818</td>\n",
       "      <td>61.396150</td>\n",
       "      <td>53.726866</td>\n",
       "      <td>19.843983</td>\n",
       "      <td>26.474913</td>\n",
       "      <td>6.093172</td>\n",
       "      <td>0.803321</td>\n",
       "      <td>0.678984</td>\n",
       "      <td>3.444638</td>\n",
       "      <td>8.243689</td>\n",
       "    </tr>\n",
       "    <tr>\n",
       "      <th>2</th>\n",
       "      <td>3</td>\n",
       "      <td>Germany</td>\n",
       "      <td>Left-footed</td>\n",
       "      <td>No</td>\n",
       "      <td>18.238443</td>\n",
       "      <td>3.804297</td>\n",
       "      <td>25.417413</td>\n",
       "      <td>0.518180</td>\n",
       "      <td>0.160379</td>\n",
       "      <td>0.666869</td>\n",
       "      <td>65.863945</td>\n",
       "      <td>60.452227</td>\n",
       "      <td>20.090084</td>\n",
       "      <td>24.164116</td>\n",
       "      <td>3.408714</td>\n",
       "      <td>0.766540</td>\n",
       "      <td>0.843858</td>\n",
       "      <td>8.429491</td>\n",
       "      <td>9.506835</td>\n",
       "    </tr>\n",
       "    <tr>\n",
       "      <th>3</th>\n",
       "      <td>4</td>\n",
       "      <td>France</td>\n",
       "      <td>Right-footed</td>\n",
       "      <td>No</td>\n",
       "      <td>22.615149</td>\n",
       "      <td>9.688908</td>\n",
       "      <td>20.471443</td>\n",
       "      <td>0.599663</td>\n",
       "      <td>0.184602</td>\n",
       "      <td>0.638776</td>\n",
       "      <td>88.876877</td>\n",
       "      <td>60.511979</td>\n",
       "      <td>22.363152</td>\n",
       "      <td>44.129989</td>\n",
       "      <td>6.339820</td>\n",
       "      <td>0.611798</td>\n",
       "      <td>0.662997</td>\n",
       "      <td>6.532552</td>\n",
       "      <td>8.199653</td>\n",
       "    </tr>\n",
       "    <tr>\n",
       "      <th>4</th>\n",
       "      <td>5</td>\n",
       "      <td>France</td>\n",
       "      <td>Left-footed</td>\n",
       "      <td>Yes</td>\n",
       "      <td>13.829233</td>\n",
       "      <td>6.048072</td>\n",
       "      <td>29.887563</td>\n",
       "      <td>0.582982</td>\n",
       "      <td>0.105319</td>\n",
       "      <td>0.591485</td>\n",
       "      <td>75.565531</td>\n",
       "      <td>54.982158</td>\n",
       "      <td>13.165708</td>\n",
       "      <td>37.859323</td>\n",
       "      <td>8.465658</td>\n",
       "      <td>0.701638</td>\n",
       "      <td>0.906538</td>\n",
       "      <td>8.414915</td>\n",
       "      <td>6.665333</td>\n",
       "    </tr>\n",
       "  </tbody>\n",
       "</table>\n",
       "</div>"
      ],
      "text/plain": [
       "   Striker_ID Nationality    Footedness Marital Status  Goals Scored  \\\n",
       "0           1       Spain   Left-footed             No     17.483571   \n",
       "1           2      France   Left-footed            Yes     14.308678   \n",
       "2           3     Germany   Left-footed             No     18.238443   \n",
       "3           4      France  Right-footed             No     22.615149   \n",
       "4           5      France   Left-footed            Yes     13.829233   \n",
       "\n",
       "     Assists  Shots on Target  Shot Accuracy  Conversion Rate  \\\n",
       "0  10.778533        34.795488       0.677836         0.166241   \n",
       "1  13.728250        31.472436       0.544881         0.192774   \n",
       "2   3.804297        25.417413       0.518180         0.160379   \n",
       "3   9.688908        20.471443       0.599663         0.184602   \n",
       "4   6.048072        29.887563       0.582982         0.105319   \n",
       "\n",
       "   Dribbling Success  Movement off the Ball  Hold-up Play  Aerial Duels Won  \\\n",
       "0           0.757061              50.921924     71.806409         15.682532   \n",
       "1           0.796818              61.396150     53.726866         19.843983   \n",
       "2           0.666869              65.863945     60.452227         20.090084   \n",
       "3           0.638776              88.876877     60.511979         22.363152   \n",
       "4           0.591485              75.565531     54.982158         13.165708   \n",
       "\n",
       "   Defensive Contribution  Big Game Performance  Consistency  \\\n",
       "0               30.412215              6.152481     0.820314   \n",
       "1               26.474913              6.093172     0.803321   \n",
       "2               24.164116              3.408714     0.766540   \n",
       "3               44.129989              6.339820     0.611798   \n",
       "4               37.859323              8.465658     0.701638   \n",
       "\n",
       "   Penalty Success Rate  Impact on Team Performance  Off-field Conduct  \n",
       "0              0.922727                    8.570370          11.451388  \n",
       "1              0.678984                    3.444638           8.243689  \n",
       "2              0.843858                    8.429491           9.506835  \n",
       "3              0.662997                    6.532552           8.199653  \n",
       "4              0.906538                    8.414915           6.665333  "
      ]
     },
     "execution_count": 42,
     "metadata": {},
     "output_type": "execute_result"
    }
   ],
   "source": [
    "# Load dataset and print first 5 rows to validate dataset.\n",
    "data = pd.read_excel('Strikers_performance.xlsx')\n",
    "data.head()"
   ]
  },
  {
   "cell_type": "markdown",
   "id": "38ae1ffb",
   "metadata": {},
   "source": [
    "### Check for missing values"
   ]
  },
  {
   "cell_type": "code",
   "execution_count": 44,
   "id": "064b96ed",
   "metadata": {},
   "outputs": [
    {
     "name": "stdout",
     "output_type": "stream",
     "text": [
      "Missing Values: \n",
      " Striker_ID                    0\n",
      "Nationality                   0\n",
      "Footedness                    0\n",
      "Marital Status                0\n",
      "Goals Scored                  0\n",
      "Assists                       0\n",
      "Shots on Target               0\n",
      "Shot Accuracy                 0\n",
      "Conversion Rate               0\n",
      "Dribbling Success             0\n",
      "Movement off the Ball         6\n",
      "Hold-up Play                  0\n",
      "Aerial Duels Won              0\n",
      "Defensive Contribution        0\n",
      "Big Game Performance          2\n",
      "Consistency                   0\n",
      "Penalty Success Rate          5\n",
      "Impact on Team Performance    0\n",
      "Off-field Conduct             0\n",
      "dtype: int64\n"
     ]
    }
   ],
   "source": [
    "# First thing I do is check for missing values and which shows I found 3 Missing Value columns. \n",
    "missing_values = data.isnull().sum()\n",
    "print(\"Missing Values: \\n\", missing_values)"
   ]
  },
  {
   "cell_type": "markdown",
   "id": "eb2d9612",
   "metadata": {},
   "source": [
    "#### Missing Values are: \n",
    "Movement off the Ball         \"6\" | \n",
    "Big Game Performance          \"2\" | \n",
    "Penalty Success Rate          \"5\" | "
   ]
  },
  {
   "cell_type": "code",
   "execution_count": 45,
   "id": "e879b48c",
   "metadata": {},
   "outputs": [
    {
     "name": "stdout",
     "output_type": "stream",
     "text": [
      "Missing Values: \n",
      " Striker_ID                    0\n",
      "Nationality                   0\n",
      "Footedness                    0\n",
      "Marital Status                0\n",
      "Goals Scored                  0\n",
      "Assists                       0\n",
      "Shots on Target               0\n",
      "Shot Accuracy                 0\n",
      "Conversion Rate               0\n",
      "Dribbling Success             0\n",
      "Movement off the Ball         0\n",
      "Hold-up Play                  0\n",
      "Aerial Duels Won              0\n",
      "Defensive Contribution        0\n",
      "Big Game Performance          0\n",
      "Consistency                   0\n",
      "Penalty Success Rate          0\n",
      "Impact on Team Performance    0\n",
      "Off-field Conduct             0\n",
      "dtype: int64\n"
     ]
    }
   ],
   "source": [
    "# Simple Imputer to impute missing values using median values for numeric columns. This will help us in removing outliers which may skew obersvations later on.\n",
    "imputer = SimpleImputer(strategy = 'median')\n",
    "imputer.fit(data[[\"Movement off the Ball\", \"Big Game Performance\", \"Penalty Success Rate\"]])\n",
    "data[[\"Movement off the Ball\", \"Big Game Performance\", \"Penalty Success Rate\"]] = imputer.transform(data[[\"Movement off the Ball\", \"Big Game Performance\", \"Penalty Success Rate\"]])\n",
    "missing_values = data.isnull().sum()\n",
    "print(\"Missing Values: \\n\", missing_values)"
   ]
  },
  {
   "cell_type": "markdown",
   "id": "d51fc731",
   "metadata": {},
   "source": [
    "### Ensuring correct data types for numeric cols: "
   ]
  },
  {
   "cell_type": "code",
   "execution_count": 46,
   "id": "4a8c560d",
   "metadata": {},
   "outputs": [],
   "source": [
    "# When dealing with numeric data, a check I follow is to check is to convert the required fields to int data type. \n",
    "# This saves the time of checking the data types of each required field.\n",
    "cols = ['Goals Scored', 'Assists', 'Shots on Target', 'Movement off the Ball', 'Hold-up Play', 'Aerial Duels Won', \n",
    "        'Defensive Contribution', 'Big Game Performance', 'Impact on Team Performance', 'Off-field Conduct']\n",
    "data[cols] = data[cols].astype(int)"
   ]
  },
  {
   "cell_type": "markdown",
   "id": "14c827a5",
   "metadata": {},
   "source": [
    "### Perform descriptive analysis on the dataset. Round the output values by 2 decimal points."
   ]
  },
  {
   "cell_type": "code",
   "execution_count": 47,
   "id": "b22e12b9",
   "metadata": {},
   "outputs": [
    {
     "data": {
      "text/html": [
       "<div>\n",
       "<style scoped>\n",
       "    .dataframe tbody tr th:only-of-type {\n",
       "        vertical-align: middle;\n",
       "    }\n",
       "\n",
       "    .dataframe tbody tr th {\n",
       "        vertical-align: top;\n",
       "    }\n",
       "\n",
       "    .dataframe thead th {\n",
       "        text-align: right;\n",
       "    }\n",
       "</style>\n",
       "<table border=\"1\" class=\"dataframe\">\n",
       "  <thead>\n",
       "    <tr style=\"text-align: right;\">\n",
       "      <th></th>\n",
       "      <th>Striker_ID</th>\n",
       "      <th>Goals Scored</th>\n",
       "      <th>Assists</th>\n",
       "      <th>Shots on Target</th>\n",
       "      <th>Shot Accuracy</th>\n",
       "      <th>Conversion Rate</th>\n",
       "      <th>Dribbling Success</th>\n",
       "      <th>Movement off the Ball</th>\n",
       "      <th>Hold-up Play</th>\n",
       "      <th>Aerial Duels Won</th>\n",
       "      <th>Defensive Contribution</th>\n",
       "      <th>Big Game Performance</th>\n",
       "      <th>Consistency</th>\n",
       "      <th>Penalty Success Rate</th>\n",
       "      <th>Impact on Team Performance</th>\n",
       "      <th>Off-field Conduct</th>\n",
       "    </tr>\n",
       "  </thead>\n",
       "  <tbody>\n",
       "    <tr>\n",
       "      <th>count</th>\n",
       "      <td>500.00</td>\n",
       "      <td>500.00</td>\n",
       "      <td>500.00</td>\n",
       "      <td>500.00</td>\n",
       "      <td>500.00</td>\n",
       "      <td>500.00</td>\n",
       "      <td>500.00</td>\n",
       "      <td>500.00</td>\n",
       "      <td>500.00</td>\n",
       "      <td>500.00</td>\n",
       "      <td>500.00</td>\n",
       "      <td>500.00</td>\n",
       "      <td>500.00</td>\n",
       "      <td>500.00</td>\n",
       "      <td>500.00</td>\n",
       "      <td>500.00</td>\n",
       "    </tr>\n",
       "    <tr>\n",
       "      <th>mean</th>\n",
       "      <td>250.50</td>\n",
       "      <td>14.52</td>\n",
       "      <td>7.60</td>\n",
       "      <td>25.26</td>\n",
       "      <td>0.60</td>\n",
       "      <td>0.20</td>\n",
       "      <td>0.70</td>\n",
       "      <td>69.28</td>\n",
       "      <td>59.33</td>\n",
       "      <td>19.04</td>\n",
       "      <td>39.47</td>\n",
       "      <td>6.43</td>\n",
       "      <td>0.74</td>\n",
       "      <td>0.80</td>\n",
       "      <td>6.52</td>\n",
       "      <td>7.57</td>\n",
       "    </tr>\n",
       "    <tr>\n",
       "      <th>std</th>\n",
       "      <td>144.48</td>\n",
       "      <td>4.91</td>\n",
       "      <td>2.96</td>\n",
       "      <td>7.08</td>\n",
       "      <td>0.10</td>\n",
       "      <td>0.05</td>\n",
       "      <td>0.10</td>\n",
       "      <td>10.33</td>\n",
       "      <td>10.15</td>\n",
       "      <td>4.95</td>\n",
       "      <td>9.90</td>\n",
       "      <td>1.98</td>\n",
       "      <td>0.10</td>\n",
       "      <td>0.10</td>\n",
       "      <td>2.11</td>\n",
       "      <td>2.09</td>\n",
       "    </tr>\n",
       "    <tr>\n",
       "      <th>min</th>\n",
       "      <td>1.00</td>\n",
       "      <td>0.00</td>\n",
       "      <td>0.00</td>\n",
       "      <td>4.00</td>\n",
       "      <td>0.31</td>\n",
       "      <td>0.05</td>\n",
       "      <td>0.40</td>\n",
       "      <td>40.00</td>\n",
       "      <td>35.00</td>\n",
       "      <td>4.00</td>\n",
       "      <td>8.00</td>\n",
       "      <td>2.00</td>\n",
       "      <td>0.46</td>\n",
       "      <td>0.53</td>\n",
       "      <td>0.00</td>\n",
       "      <td>0.00</td>\n",
       "    </tr>\n",
       "    <tr>\n",
       "      <th>25%</th>\n",
       "      <td>125.75</td>\n",
       "      <td>11.00</td>\n",
       "      <td>6.00</td>\n",
       "      <td>20.00</td>\n",
       "      <td>0.54</td>\n",
       "      <td>0.17</td>\n",
       "      <td>0.64</td>\n",
       "      <td>62.00</td>\n",
       "      <td>52.00</td>\n",
       "      <td>16.00</td>\n",
       "      <td>33.00</td>\n",
       "      <td>5.00</td>\n",
       "      <td>0.68</td>\n",
       "      <td>0.72</td>\n",
       "      <td>5.00</td>\n",
       "      <td>6.00</td>\n",
       "    </tr>\n",
       "    <tr>\n",
       "      <th>50%</th>\n",
       "      <td>250.50</td>\n",
       "      <td>15.00</td>\n",
       "      <td>8.00</td>\n",
       "      <td>25.00</td>\n",
       "      <td>0.60</td>\n",
       "      <td>0.20</td>\n",
       "      <td>0.70</td>\n",
       "      <td>69.00</td>\n",
       "      <td>60.00</td>\n",
       "      <td>19.00</td>\n",
       "      <td>39.50</td>\n",
       "      <td>6.00</td>\n",
       "      <td>0.75</td>\n",
       "      <td>0.80</td>\n",
       "      <td>6.50</td>\n",
       "      <td>8.00</td>\n",
       "    </tr>\n",
       "    <tr>\n",
       "      <th>75%</th>\n",
       "      <td>375.25</td>\n",
       "      <td>18.00</td>\n",
       "      <td>9.00</td>\n",
       "      <td>30.00</td>\n",
       "      <td>0.67</td>\n",
       "      <td>0.23</td>\n",
       "      <td>0.76</td>\n",
       "      <td>76.00</td>\n",
       "      <td>66.00</td>\n",
       "      <td>22.00</td>\n",
       "      <td>46.00</td>\n",
       "      <td>8.00</td>\n",
       "      <td>0.81</td>\n",
       "      <td>0.87</td>\n",
       "      <td>8.00</td>\n",
       "      <td>9.00</td>\n",
       "    </tr>\n",
       "    <tr>\n",
       "      <th>max</th>\n",
       "      <td>500.00</td>\n",
       "      <td>34.00</td>\n",
       "      <td>15.00</td>\n",
       "      <td>43.00</td>\n",
       "      <td>0.92</td>\n",
       "      <td>0.36</td>\n",
       "      <td>1.00</td>\n",
       "      <td>98.00</td>\n",
       "      <td>92.00</td>\n",
       "      <td>34.00</td>\n",
       "      <td>71.00</td>\n",
       "      <td>12.00</td>\n",
       "      <td>1.00</td>\n",
       "      <td>1.00</td>\n",
       "      <td>13.00</td>\n",
       "      <td>13.00</td>\n",
       "    </tr>\n",
       "  </tbody>\n",
       "</table>\n",
       "</div>"
      ],
      "text/plain": [
       "       Striker_ID  Goals Scored  Assists  Shots on Target  Shot Accuracy  \\\n",
       "count      500.00        500.00   500.00           500.00         500.00   \n",
       "mean       250.50         14.52     7.60            25.26           0.60   \n",
       "std        144.48          4.91     2.96             7.08           0.10   \n",
       "min          1.00          0.00     0.00             4.00           0.31   \n",
       "25%        125.75         11.00     6.00            20.00           0.54   \n",
       "50%        250.50         15.00     8.00            25.00           0.60   \n",
       "75%        375.25         18.00     9.00            30.00           0.67   \n",
       "max        500.00         34.00    15.00            43.00           0.92   \n",
       "\n",
       "       Conversion Rate  Dribbling Success  Movement off the Ball  \\\n",
       "count           500.00             500.00                 500.00   \n",
       "mean              0.20               0.70                  69.28   \n",
       "std               0.05               0.10                  10.33   \n",
       "min               0.05               0.40                  40.00   \n",
       "25%               0.17               0.64                  62.00   \n",
       "50%               0.20               0.70                  69.00   \n",
       "75%               0.23               0.76                  76.00   \n",
       "max               0.36               1.00                  98.00   \n",
       "\n",
       "       Hold-up Play  Aerial Duels Won  Defensive Contribution  \\\n",
       "count        500.00            500.00                  500.00   \n",
       "mean          59.33             19.04                   39.47   \n",
       "std           10.15              4.95                    9.90   \n",
       "min           35.00              4.00                    8.00   \n",
       "25%           52.00             16.00                   33.00   \n",
       "50%           60.00             19.00                   39.50   \n",
       "75%           66.00             22.00                   46.00   \n",
       "max           92.00             34.00                   71.00   \n",
       "\n",
       "       Big Game Performance  Consistency  Penalty Success Rate  \\\n",
       "count                500.00       500.00                500.00   \n",
       "mean                   6.43         0.74                  0.80   \n",
       "std                    1.98         0.10                  0.10   \n",
       "min                    2.00         0.46                  0.53   \n",
       "25%                    5.00         0.68                  0.72   \n",
       "50%                    6.00         0.75                  0.80   \n",
       "75%                    8.00         0.81                  0.87   \n",
       "max                   12.00         1.00                  1.00   \n",
       "\n",
       "       Impact on Team Performance  Off-field Conduct  \n",
       "count                      500.00             500.00  \n",
       "mean                         6.52               7.57  \n",
       "std                          2.11               2.09  \n",
       "min                          0.00               0.00  \n",
       "25%                          5.00               6.00  \n",
       "50%                          6.50               8.00  \n",
       "75%                          8.00               9.00  \n",
       "max                         13.00              13.00  "
      ]
     },
     "execution_count": 47,
     "metadata": {},
     "output_type": "execute_result"
    }
   ],
   "source": [
    "# Describe gives a better understanding of the numeric data and also can show if any inconsistencies are present in the data.\n",
    "data.describe().round(2)"
   ]
  },
  {
   "cell_type": "markdown",
   "id": "1d92d31d",
   "metadata": {},
   "source": [
    "### Data Visualization:\n",
    "    \n",
    "-> Perform percentage analysis on the variable Footedness and create a pie chart on the output using matplotlib.\n",
    "\n",
    "-> Visualize the distribution of players' footedness across different nationalities in a countplot of seaborn.  "
   ]
  },
  {
   "cell_type": "code",
   "execution_count": 21,
   "id": "e938da38",
   "metadata": {},
   "outputs": [
    {
     "data": {
      "image/png": "[encoded data removed]",
      "text/plain": [
       "<Figure size 700x400 with 1 Axes>"
      ]
     },
     "metadata": {},
     "output_type": "display_data"
    }
   ],
   "source": [
    "#Footedness Pie Chart shows the distribution of strickers as per their dominant footedness:\n",
    "footedness_count = data['Footedness'].value_counts()\n",
    "plt.figure(figsize = (7,4))\n",
    "plt.pie(footedness_count, labels = footedness_count.index, autopct='%1.1f%%', startangle=140)\n",
    "plt.title(\"Footedness Percentage\")\n",
    "plt.show()"
   ]
  },
  {
   "cell_type": "code",
   "execution_count": 48,
   "id": "e9426214",
   "metadata": {
    "scrolled": false
   },
   "outputs": [
    {
     "data": {
      "image/png": "[encoded data removed]",
      "text/plain": [
       "<Figure size 700x400 with 1 Axes>"
      ]
     },
     "metadata": {},
     "output_type": "display_data"
    }
   ],
   "source": [
    "#Distribution of footedness vs nations shows which footedness is dominant but country wise\n",
    "plt.figure(figsize = (7,4))\n",
    "sns.countplot(data=data, x = \"Nationality\", hue = \"Footedness\")\n",
    "plt.title(\"Footedness in nationalities\")\n",
    "plt.xticks(rotation = 90)\n",
    "plt.show()"
   ]
  },
  {
   "cell_type": "markdown",
   "id": "3bcb56e9",
   "metadata": {},
   "source": [
    "## Statistical Analysis:¶\n",
    "-> Determine which nationality strikers have the highest average number of goals scored.\n",
    "\n",
    "-> Calculate the average conversion rate for players based on their footedness.\n",
    "\n",
    "-> Find whether there is any significant difference in consistency rates among strikers from various nationalities. Before doing the appropriate test, must check for the assumptions.\n",
    "\n",
    "-> Check if there is any significant correlation between strikers' Hold-up play and consistency rate. Must check for the assumptions.\n",
    "\n",
    "-> Check if strikers' hold-up play significantly influences their consistency rate. "
   ]
  },
  {
   "cell_type": "code",
   "execution_count": 49,
   "id": "c63335da",
   "metadata": {
    "scrolled": true
   },
   "outputs": [
    {
     "data": {
      "text/plain": [
       "Nationality\n",
       "Brazil     15.315789\n",
       "England    13.899083\n",
       "France     14.408602\n",
       "Germany    14.351648\n",
       "Spain      14.687500\n",
       "Name: Goals Scored, dtype: float64"
      ]
     },
     "execution_count": 49,
     "metadata": {},
     "output_type": "execute_result"
    }
   ],
   "source": [
    "# Highest average number of goals scored by nationality\n",
    "avg_goal = data.groupby(\"Nationality\")[\"Goals Scored\"].mean()\n",
    "avg_goal"
   ]
  },
  {
   "cell_type": "code",
   "execution_count": 50,
   "id": "5dad1ede",
   "metadata": {},
   "outputs": [
    {
     "name": "stdout",
     "output_type": "stream",
     "text": [
      "Left Footedness: 0.19808556002126498\n",
      "Right Footedness: 0.20059234267216383\n"
     ]
    }
   ],
   "source": [
    "# Average conversion rate for players based on their footedness.\n",
    "avg_conversion = data[data[\"Footedness\"] == \"Left-footed\"][\"Conversion Rate\"].mean()\n",
    "print(\"Left Footedness:\",avg_conversion)\n",
    "\n",
    "avg_conversion = data[data[\"Footedness\"] == \"Right-footed\"][\"Conversion Rate\"].mean()\n",
    "print(\"Right Footedness:\",avg_conversion)"
   ]
  },
  {
   "cell_type": "code",
   "execution_count": 51,
   "id": "c88810d1",
   "metadata": {},
   "outputs": [],
   "source": [
    "# Check for significant difference in consistency rates vs nationalities. Here I must use 2 tests: \n",
    "# 1. Shapiro-Wilks test for normality of consistency.\n",
    "# 2. levene's test for homogeneity of variances.\n",
    "# 3. Last is Anova to see the significant difference in consistency rates vs nationalities"
   ]
  },
  {
   "cell_type": "code",
   "execution_count": 52,
   "id": "f3af0225",
   "metadata": {},
   "outputs": [
    {
     "name": "stdout",
     "output_type": "stream",
     "text": [
      "P-value 0.4512665271759033\n",
      "Consistency normally distributed\n"
     ]
    }
   ],
   "source": [
    "# Shapiro-Wilks test for normality of consistency.\n",
    "shapiro_test = shapiro(data[\"Consistency\"])\n",
    "print(\"P-value\", shapiro_test.pvalue)\n",
    "if shapiro_test.pvalue > 0.05:\n",
    "    print(\"Consistency normally distributed\")\n",
    "else:\n",
    "    print(\"Consistency is not normally distributed\")"
   ]
  },
  {
   "cell_type": "code",
   "execution_count": 53,
   "id": "fb38bf8b",
   "metadata": {},
   "outputs": [
    {
     "name": "stdout",
     "output_type": "stream",
     "text": [
      "P-value 0.8083990350934653\n",
      "Homoscedasticity assumed.\n"
     ]
    }
   ],
   "source": [
    "# Levene's test.\n",
    "levene_test = levene(*[data[data[\"Nationality\"] == nation][\"Consistency\"] for nation in data[\"Nationality\"].unique()])\n",
    "print(\"P-value\", levene_test.pvalue)\n",
    "if levene_test.pvalue > 0.05:\n",
    "    print(\"Homoscedasticity assumed.\")\n",
    "else:\n",
    "    print(\"Heteroscedasticity assumed.\")"
   ]
  },
  {
   "cell_type": "code",
   "execution_count": 63,
   "id": "3670c245",
   "metadata": {},
   "outputs": [
    {
     "name": "stdout",
     "output_type": "stream",
     "text": [
      "ANOVA test p-value: 0.19278675901599154\n",
      "No significant difference in consistency rates among nationalities.\n"
     ]
    }
   ],
   "source": [
    "# Anova for significant difference in consistency rates vs nationalities.\n",
    "if shapiro_test.pvalue > 0.05 and levene_test.pvalue > 0.05:\n",
    "    anova_test = f_oneway(*[data[data['Nationality'] == nation]['Consistency'] for nation in data['Nationality'].unique()])\n",
    "    print(\"ANOVA test p-value:\", anova_test.pvalue)\n",
    "    if anova_test.pvalue < 0.05:\n",
    "        print(\"Significant difference in consistency rates among nationalities.\")\n",
    "    else:\n",
    "        print(\"No significant difference in consistency rates among nationalities.\")\n",
    "else:\n",
    "        print(\"ANOVA assumptions not met. Consider using a non-parametric test.\")"
   ]
  },
  {
   "cell_type": "code",
   "execution_count": 65,
   "id": "3438b3cd",
   "metadata": {},
   "outputs": [
    {
     "name": "stdout",
     "output_type": "stream",
     "text": [
      "Correlation coefficient between Hold-up Play and Consistency: 0.15\n"
     ]
    }
   ],
   "source": [
    "# For significant correlation between strikers' Hold-up play and consistency rate. Must check for the assumptions, Pearson Correlation Test is used.\n",
    "correlation, _ = pearsonr(data['Hold-up Play'], data['Consistency'])\n",
    "print(\"Correlation coefficient between Hold-up Play and Consistency:\", round(correlation, 2))"
   ]
  },
  {
   "cell_type": "code",
   "execution_count": null,
   "id": "9b23d2a2",
   "metadata": {},
   "outputs": [],
   "source": []
  }
 ],
 "metadata": {
  "kernelspec": {
   "display_name": "Python 3 (ipykernel)",
   "language": "python",
   "name": "python3"
  },
  "language_info": {
   "codemirror_mode": {
    "name": "ipython",
    "version": 3
   },
   "file_extension": ".py",
   "mimetype": "text/x-python",
   "name": "python",
   "nbconvert_exporter": "python",
   "pygments_lexer": "ipython3",
   "version": "3.11.4"
  }
 },
 "nbformat": 4,
 "nbformat_minor": 5
}
