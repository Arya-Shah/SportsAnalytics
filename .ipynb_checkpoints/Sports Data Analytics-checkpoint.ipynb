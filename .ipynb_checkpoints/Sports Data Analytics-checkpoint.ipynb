{
 "cells": [
  {
   "cell_type": "markdown",
   "id": "51794e7d",
   "metadata": {},
   "source": [
    "# Introduction\n",
    "In the world of football, strikers play a pivotal role in deciding the fate of matches and championships. Identifying the best strikers among a pool of talent involves a comprehensive analysis of various factors ranging from performance metrics to personal attributes. In this project, titled \"Segmenting and Classifying the Best Strikers,\" we delve into a dataset containing information on 500 strikers, aiming to uncover patterns, insights, and classifications that distinguish top-performing strikers from the rest."
   ]
  },
  {
   "cell_type": "markdown",
   "id": "3b1e426b",
   "metadata": {},
   "source": [
    "# Project Description\n",
    "The project involves utilizing data analytics techniques to explore and understand the characteristics and performance metrics of strikers. By employing descriptive statistics, data visualization, feature engineering, and machine learning algorithms, we aim to identify the key attributes that contribute to a striker's success on the field and classify them into different categories based on their performance.\n",
    "\n",
    "## Purpose\n",
    "The primary purpose of this project is to provide a systematic framework for analyzing and categorizing strikers based on their performance metrics and personal attributes. By doing so, coaches, scouts, and football analysts can gain valuable insights into the characteristics of top-performing strikers and make informed decisions in team selection, recruitment, and strategic planning.\n"
   ]
  },
  {
   "cell_type": "markdown",
   "id": "ca8e6569",
   "metadata": {},
   "source": [
    "# Dataset Description\n",
    "The dataset comprises various variables related to 500 strikers, encompassing both demographic information and performance metrics. Key variables include nationality, footedness, marital status, goals scored, assists, shot accuracy, dribbling success, and many more, providing a comprehensive overview of each striker's profile and on-field performance.\n",
    "\n",
    "-> Striker ID: Unique identifiers assigned to each striker.\n",
    "\n",
    "-> Nationality: The country of origin for each striker.\n",
    "\n",
    "-> Footedness: Indicates whether the striker is right or left-footed.\n",
    "\n",
    "-> Marital Status: Indicates whether the striker is married (yes) or unmarried (no).\n",
    "\n",
    "-> Goals Scored: The total number of goals scored by the striker, a fundamental performance metric.\n",
    "\n",
    "-> Assists: The number of assists provided by the striker, indicating their ability to create goal-scoring opportunities for teammates.\n",
    "\n",
    "-> Shots on Target: The number of shots taken by the striker that hit the target, reflecting their ability to create scoring opportunities and test the goalkeeper.\n",
    "\n",
    "-> Shot Accuracy: The percentage of shots on target out of total shots taken, showing the striker's precision and effectiveness.\n",
    "\n",
    "-> Conversion Rate: The percentage of shots that result in goals, revealing the striker's efficiency in front of goal.\n",
    "\n",
    "-> Dribbling Success: A metric indicating the striker's ability to bypass defenders and create goal-scoring opportunities through individual skill.\n",
    "\n",
    "-> Movement off the Ball: Reflects how actively the striker moves to find space and create opportunities for themselves and teammates.\n",
    "\n",
    "-> Hold-up Play: Measures the striker's ability to retain possession and bring teammates into play with passes or layoffs.\n",
    "\n",
    "-> Aerial Duels Won: The number of aerial duels won by the striker, important for strikers strong in the air as it can create scoring chances.\n",
    "\n",
    "-> Defensive Contribution: Reflects the striker's defensive efforts such as tracking back, pressing opponents, and making interceptions.\n",
    "\n",
    "-> Big Game Performance: Indicates the striker's performance in important matches, which can elevate their reputation.\n",
    "\n",
    "-> Consistency: Reflects how regularly the striker performs at a high level over the course of a season or multiple seasons.\n",
    "\n",
    "-> Versatility: Measures the striker's ability to adapt to different tactical systems and roles within the team.\n",
    "\n",
    "-> Penalty Success Rate: The efficiency of the striker from the penalty spot, crucial in tight matches.\n",
    "\n",
    "-> Impact on Team Performance: Reflects how the team's results and overall attacking play are influenced by the striker's presence.\n",
    "\n",
    "-> Off-field Conduct: Measures the striker's professionalism, leadership, and behavior, which can impact their overall performance and value to the team."
   ]
  },
  {
   "cell_type": "markdown",
   "id": "62263c13",
   "metadata": {},
   "source": [
    "# Required Tools\n",
    "Python programming language\n",
    "Jupyter Notebook\n",
    "\n",
    "# Your Job - Questions to solve\n",
    "Data Cleaning:\n",
    "\n",
    "Download the attached dataset and load it into Jupyter notebook.\n",
    "Load all the relevant and necessary packages for the required tasks.\n",
    "Check for missing values within any column and use SimpleImputer to impute the missing values. Use strategy 'median' for numeric and 'most frequent' for nominal columns.\n",
    "\n",
    "Check for the correct data types and assign integer data types for specific variables: 'Goals Scored', 'Assists', 'Shots on Target', 'Movement off the Ball', 'Hold-up Play', 'Aerial Duels Won', 'Defensive Contribution', 'Big Game Performance', 'Impact on Team Performance', 'Off-field Conduct'."
   ]
  },
  {
   "cell_type": "markdown",
   "id": "b7777f10",
   "metadata": {},
   "source": [
    "# Descriptive Analysis:\n",
    "\n",
    "-> Perform descriptive analysis on the dataset. Round the output values by 2 decimal points.\n",
    "\n",
    "## Data Visualization:\n",
    "\n",
    "-> Perform percentage analysis on the variable Footedness and create a pie chart on the output using matplotlib.\n",
    "\n",
    "-> Visualize the distribution of players' footedness across different nationalities in a countplot of seaborn.\n",
    "\n",
    "## Statistical Analysis:\n",
    "\n",
    "-> Determine which nationality strikers have the highest average number of goals scored.\n",
    "\n",
    "-> Calculate the average conversion rate for players based on their footedness.\n",
    "\n",
    "-> Find whether there is any significant difference in consistency rates among strikers from various nationalities. Before doing the appropriate test, must check for the assumptions.\n",
    "\n",
    "-> Check if there is any significant correlation between strikers' Hold-up play and consistency rate. Must check for the assumptions.\n",
    "\n",
    "-> Check if strikers' hold-up play significantly influences their consistency rate."
   ]
  },
  {
   "cell_type": "markdown",
   "id": "f7327e89",
   "metadata": {},
   "source": [
    "# Feature Engineering:\n",
    "\n",
    "Create a new feature - Total contribution score by summing up specific columns: 'Goals Scored', 'Assists', 'Shots on Target', 'Dribbling Success', 'Aerial Duels Won', 'Defensive Contribution', 'Big Game Performance', 'Consistency'.\n",
    "\n",
    "Encode the Footedness and marital status by LabelEncoder.\n",
    "\n",
    "Create dummy variables for Nationality and add them to the data.\n",
    "\n",
    "## Clustering Analysis:\n",
    "\n",
    "Perform KMeans clustering:\n",
    "\n",
    "Select features by dropping the Striker_ID from the updated data.\n",
    "\n",
    "Calculate the Within-Cluster-Sum-of-Squares (WCSS).\n",
    "\n",
    "Visualize the elbow chart to select the optimal number of clusters (The breakpoint of elbow chart must show 2).\n",
    "\n",
    "Build the KMeans cluster with the optimal number of clusters and add the labels into the data.\n",
    "\n",
    "Calculate the average total contribution score by the value of clusters.\n",
    "\n",
    "Assign the tag 'Best strikers' for 0 and 'Regular strikers' for 1 and add a new column 'Strikers types' into the data. Drop the Clusters variable.\n",
    "\n",
    "Use feature mapping to map the new feature Strikers types: 'Best strikers' for 1 and 'Regular strikers' for 0."
   ]
  },
  {
   "cell_type": "markdown",
   "id": "1f7d8ec3",
   "metadata": {},
   "source": [
    "# Machine Learning Model:\n",
    "\n",
    "Select the features into x and the target column Strikers types into y. Must delete unnecessary columns (i.e., 'Strikers_ID') while selecting the features.\n",
    "\n",
    "Perform feature scaling with StandardScaler and split the data into train and test sets where the test data size will be 20%.\n",
    "\n",
    "Build a logistic regression machine learning model to predict strikers type.\n",
    "\n",
    "Make predictions and evaluate by calculating the accuracy percentage.\n",
    "\n",
    "Create the confusion matrix and visualize it.\n",
    "\n",
    "Finally, answer the question asked in this assignment and you are done!\n"
   ]
  },
  {
   "cell_type": "markdown",
   "id": "f90fe7e1",
   "metadata": {},
   "source": [
    "# Conclusion\n",
    "Through a comprehensive analysis of the dataset, we've gained valuable insights into the characteristics and performance metrics of strikers. By segmenting and classifying the strikers based on their attributes and performance, we've provided a framework for identifying top-performing strikers and predicting their performance type. This project serves as a valuable resource for football professionals and enthusiasts alike, aiding in talent identification, team selection, and strategic planning.\n",
    "\n",
    "Questions for this assignment\n",
    "What is the maximum goal scored by an individual striker?\n",
    "\n",
    "What is the portion of Right-footed strikers within the dataset?\n",
    "\n",
    "Which nationality strikers have the highest average number of goals scored?\n",
    "\n",
    "What is the average conversion rate for left-footed player?\n",
    "\n",
    "How many left footed players are from France?\n",
    "\n",
    "What is the correlation co-efficient between hold up play and consistency score?\n",
    "\n",
    "What is the p-value for the shapiro wilk test of consistency score? Is it normally distributed?\n",
    "\n",
    "What is the p-value for the levene's test of ANOVA analysis? Is the heteroscedasticity assumed?\n",
    "\n",
    "Is there any significant correlation between strikers' Hold-up play and consistency rate?\n",
    "\n",
    "Describe the beta value of Hold-up Play you have found in your regression analysis.\n",
    "\n",
    "What is the average Total contribution score you get for the best strikers?\n",
    "\n",
    "What is the accuracy score of your LGR model? How many regular strikers your model predicted correctly? How many best strikers your model predicted incorrectly?"
   ]
  },
  {
   "cell_type": "markdown",
   "id": "59ccacad",
   "metadata": {},
   "source": [
    "#### --------------------------------------------------------------------------------------------------------------------------------------------------------------------------------------------------------"
   ]
  },
  {
   "cell_type": "markdown",
   "id": "2ab82f84",
   "metadata": {},
   "source": [
    "### Import neccessary libraries"
   ]
  },
  {
   "cell_type": "code",
   "execution_count": 1,
   "id": "aa9b4b9f",
   "metadata": {},
   "outputs": [],
   "source": [
    "import pandas as pd\n",
    "import matplotlib.pyplot as pt\n",
    "import numpy as np\n",
    "import seaborn as sns\n",
    "from sklearn.impute import SimpleImputer\n",
    "from sklearn.preprocessing import LabelEncoder, StandardScaler\n",
    "from sklearn.cluster import KMeans\n",
    "from sklearn.model_selection import train_test_split\n",
    "from sklearn.linear_model import LogisticRegression\n",
    "from sklearn.metrics import accuracy_score, confusion_matrix\n",
    "from scipy.stats import shapiro, levene, pearsonr"
   ]
  },
  {
   "cell_type": "markdown",
   "id": "932baf23",
   "metadata": {},
   "source": [
    "### Load Dataset"
   ]
  },
  {
   "cell_type": "code",
   "execution_count": null,
   "id": "ab94a882",
   "metadata": {},
   "outputs": [],
   "source": []
  }
 ],
 "metadata": {
  "kernelspec": {
   "display_name": "Python 3 (ipykernel)",
   "language": "python",
   "name": "python3"
  },
  "language_info": {
   "codemirror_mode": {
    "name": "ipython",
    "version": 3
   },
   "file_extension": ".py",
   "mimetype": "text/x-python",
   "name": "python",
   "nbconvert_exporter": "python",
   "pygments_lexer": "ipython3",
   "version": "3.11.4"
  }
 },
 "nbformat": 4,
 "nbformat_minor": 5
}
